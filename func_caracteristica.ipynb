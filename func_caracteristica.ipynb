{
  "nbformat": 4,
  "nbformat_minor": 0,
  "metadata": {
    "colab": {
      "provenance": [],
      "authorship_tag": "ABX9TyO6h7TkTg1Gwln2TNf/zhKl",
      "include_colab_link": true
    },
    "kernelspec": {
      "name": "python3",
      "display_name": "Python 3"
    },
    "language_info": {
      "name": "python"
    }
  },
  "cells": [
    {
      "cell_type": "markdown",
      "metadata": {
        "id": "view-in-github",
        "colab_type": "text"
      },
      "source": [
        "<a href=\"https://colab.research.google.com/github/Henrique-Batista/teste/blob/main/func_caracteristica.ipynb\" target=\"_parent\"><img src=\"https://colab.research.google.com/assets/colab-badge.svg\" alt=\"Open In Colab\"/></a>"
      ]
    },
    {
      "cell_type": "markdown",
      "source": [
        "## **Ordenar** a lista, utilizando uma funcao caracteristica"
      ],
      "metadata": {
        "id": "ZLVDLWqy2Oon"
      }
    },
    {
      "cell_type": "code",
      "execution_count": null,
      "metadata": {
        "id": "sFYmijS32LLV"
      },
      "outputs": [],
      "source": [
        "from random import randint\n",
        "lista = [randint(0, 100) for r in range(20)]\n",
        "print(lista)\n",
        "numeroMaior = 0"
      ]
    },
    {
      "cell_type": "markdown",
      "source": [
        "# Descobrir o maior numero"
      ],
      "metadata": {
        "id": "y9KPoLlq2yKZ"
      }
    },
    {
      "cell_type": "code",
      "source": [
        "for i in range(len(lista)):\n",
        "    if lista[i] >= numeroMaior:\n",
        "        numeroMaior = lista[i]"
      ],
      "metadata": {
        "id": "DN5-VgUr23U0"
      },
      "execution_count": null,
      "outputs": []
    },
    {
      "cell_type": "markdown",
      "source": [
        "# Definir o conjunto onde sera aplicada a funcao"
      ],
      "metadata": {
        "id": "ZW3aXB_A2-ca"
      }
    },
    {
      "cell_type": "code",
      "source": [
        "funcao_caracteristica = [0 for n in range(numeroMaior+1)]"
      ],
      "metadata": {
        "id": "s6G8YUmU3BBl"
      },
      "execution_count": null,
      "outputs": []
    },
    {
      "cell_type": "markdown",
      "source": [
        "# Aplicar a funcao caracteristica\n",
        "# Def: Uma funcao de A em B, onde existe x em A e existe y em B tal que x = y.\n",
        "# A = lista\n",
        "# B = indices de funcao_caracteristica"
      ],
      "metadata": {
        "id": "yxspxXkT3Dr3"
      }
    },
    {
      "cell_type": "code",
      "source": [
        "indices_func = [f for f in range(len(funcao_caracteristica))]\n",
        "print(indices_func)"
      ],
      "metadata": {
        "id": "oDfHx0a03zzg"
      },
      "execution_count": null,
      "outputs": []
    },
    {
      "cell_type": "markdown",
      "source": [
        "# Verificar se cada item em lista existe nos indices e retorna na posicao o valor 1"
      ],
      "metadata": {
        "id": "BVRr88kE34Fl"
      }
    },
    {
      "cell_type": "code",
      "source": [
        "for i in range(len(lista)):\n",
        "    if lista[i] in indices_func:\n",
        "        funcao_caracteristica[indices_func.index(lista[i])] = 1\n",
        "print(funcao_caracteristica)"
      ],
      "metadata": {
        "id": "Ncktdiqj39Xn"
      },
      "execution_count": null,
      "outputs": []
    },
    {
      "cell_type": "markdown",
      "source": [
        "# Coletar os indices que estão na funcao caracteristica"
      ],
      "metadata": {
        "id": "5dKGXft53_wm"
      }
    },
    {
      "cell_type": "code",
      "source": [
        "lista_ordenada = [l for l in indices_func if funcao_caracteristica[l] == 1]\n",
        "print(lista_ordenada)"
      ],
      "metadata": {
        "id": "lVD2iHPX4CFn"
      },
      "execution_count": null,
      "outputs": []
    }
  ]
}